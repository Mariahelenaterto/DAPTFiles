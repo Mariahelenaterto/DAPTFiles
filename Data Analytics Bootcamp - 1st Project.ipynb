{
 "cells": [
  {
   "cell_type": "code",
   "execution_count": null,
   "id": "fc950c1e",
   "metadata": {},
   "outputs": [],
   "source": [
    "import pandas as pd\n",
    "import numpy as np\n",
    "import matplotlib.pyplot as plt\n",
    "import regex"
   ]
  },
  {
   "cell_type": "code",
   "execution_count": null,
   "id": "aec212c9",
   "metadata": {
    "scrolled": true
   },
   "outputs": [],
   "source": [
    "shark_attack= pd.read_csv('/Users/maria.perensin/Documents/Data Analytics Bootcamp/Week 7/Projeto/attacks.csv', encoding = 'cp1251')\n",
    "shark_attack.head()"
   ]
  },
  {
   "cell_type": "code",
   "execution_count": null,
   "id": "478691b6",
   "metadata": {
    "scrolled": true
   },
   "outputs": [],
   "source": [
    "shark_attack.isna().sum(axis=0).sort_values(ascending=False).head()\n",
    "shark_attack_cleaned=shark_attack.drop(['pdf', 'href', 'href formula', 'Unnamed: 22', 'Unnamed: 23', 'original order','Investigator or Source', 'Time', 'Name'], axis=1)"
   ]
  },
  {
   "cell_type": "markdown",
   "id": "b010b439",
   "metadata": {},
   "source": [
    "After checking empty/useless columns (for this analysis), I decided to drop a few of them as per code above. Below, I'll be droping empty/ useless rows."
   ]
  },
  {
   "cell_type": "code",
   "execution_count": null,
   "id": "396b4936",
   "metadata": {},
   "outputs": [],
   "source": [
    "shark_attack_cleaned = shark_attack_cleaned.drop_duplicates()"
   ]
  },
  {
   "cell_type": "code",
   "execution_count": null,
   "id": "2ce09ae4",
   "metadata": {},
   "outputs": [],
   "source": [
    "shark_attack_cleaned = shark_attack_cleaned.drop(25722)\n",
    "shark_attack_cleaned = shark_attack_cleaned.drop(8702)\n",
    "shark_attack_cleaned = shark_attack_cleaned.drop(6302)"
   ]
  },
  {
   "cell_type": "code",
   "execution_count": null,
   "id": "1f58b8ec",
   "metadata": {},
   "outputs": [],
   "source": [
    "shark_attack_cleaned.shape"
   ]
  },
  {
   "cell_type": "markdown",
   "id": "24948634",
   "metadata": {},
   "source": [
    "Now, 'Country' and 'Activity' columns will be standardized by the function below. Afterwards, column 'CONTRY_CLEANED' and 'ACTIVITY_CLEANED' will be placed in the beggining of the table."
   ]
  },
  {
   "cell_type": "code",
   "execution_count": null,
   "id": "a7990de5",
   "metadata": {},
   "outputs": [],
   "source": [
    "def clean_country(value):\n",
    "    pattern= '[^A-Za-z]'\n",
    "    pattern1 = ' '\n",
    "    try:\n",
    "        value=value.lstrip().rstrip()\n",
    "        value=value.replace(pattern, '_')\n",
    "        value=value.replace(pattern1, '_')\n",
    "        value= value.replace(',', '_')\n",
    "        return value.upper()\n",
    "\n",
    "    except:\n",
    "        return np.nan"
   ]
  },
  {
   "cell_type": "code",
   "execution_count": null,
   "id": "e276c040",
   "metadata": {},
   "outputs": [],
   "source": [
    "shark_attack_cleaned['COUNTRY_CLEANED'] = shark_attack_cleaned['Country'].map(clean_country)"
   ]
  },
  {
   "cell_type": "code",
   "execution_count": null,
   "id": "445ecad6",
   "metadata": {},
   "outputs": [],
   "source": [
    "shark_attack_cleaned['ACTIVITY_CLEANED'] = shark_attack_cleaned['Activity'].map(clean_country)"
   ]
  },
  {
   "cell_type": "code",
   "execution_count": null,
   "id": "bbbbba6a",
   "metadata": {},
   "outputs": [],
   "source": [
    "first_column = shark_attack_cleaned.pop('COUNTRY_CLEANED')\n",
    "shark_attack_cleaned.insert(0, 'COUNTRY_CLEANED', first_column)"
   ]
  },
  {
   "cell_type": "code",
   "execution_count": null,
   "id": "15359f30",
   "metadata": {},
   "outputs": [],
   "source": [
    "second_column = shark_attack_cleaned.pop('ACTIVITY_CLEANED')\n",
    "shark_attack_cleaned.insert(1, 'ACTIVITY_CLEANED', second_column)"
   ]
  },
  {
   "cell_type": "markdown",
   "id": "e540b975",
   "metadata": {},
   "source": [
    "Now all cells that contain the words 'surf' or 'swim' will be replaced by the words 'surfing' or 'swiming'. All the other rows will be deleted as they are not interesting to this analysis."
   ]
  },
  {
   "cell_type": "code",
   "execution_count": null,
   "id": "9e3668a6",
   "metadata": {
    "scrolled": true
   },
   "outputs": [],
   "source": [
    "def clean_activity_type(activity):\n",
    "    pattern1 = 'SURF'\n",
    "    pattern2 = 'SWIM'\n",
    "    try:\n",
    "        if pattern1 in activity:\n",
    "            return 'SURFING'\n",
    "        elif pattern2 in activity:\n",
    "            return 'SWIMING'\n",
    "        else:\n",
    "            return np.nan\n",
    "    except:\n",
    "        return np.nan"
   ]
  },
  {
   "cell_type": "code",
   "execution_count": null,
   "id": "0fa13ab8",
   "metadata": {
    "scrolled": true
   },
   "outputs": [],
   "source": [
    "shark_attack_cleaned['ACTIVITY_CLEANED'] = shark_attack_cleaned['ACTIVITY_CLEANED'].map(clean_activity_type)"
   ]
  },
  {
   "cell_type": "code",
   "execution_count": null,
   "id": "6a79cb68",
   "metadata": {},
   "outputs": [],
   "source": [
    "shark_attack_cleaned = shark_attack_cleaned.dropna(subset = ['ACTIVITY_CLEANED'])"
   ]
  },
  {
   "cell_type": "markdown",
   "id": "1abbcf20",
   "metadata": {},
   "source": [
    "Now, I'll review what country had the highest number of fatal cases.\n",
    "\n",
    "In order to achive that, a mask will be used:\n",
    "\n",
    "fatal_or_not - in which the code accepts 'Yes' only, described by 'Y' in the main source."
   ]
  },
  {
   "cell_type": "code",
   "execution_count": null,
   "id": "bb7883ee",
   "metadata": {},
   "outputs": [],
   "source": [
    "fatal_or_not = shark_attack_cleaned['Fatal (Y/N)']== 'Y'\n",
    "activity_per_country = shark_attack_cleaned[fatal_or_not].groupby(['ACTIVITY_CLEANED','COUNTRY_CLEANED']).count()"
   ]
  },
  {
   "cell_type": "code",
   "execution_count": null,
   "id": "6db9e021",
   "metadata": {},
   "outputs": [],
   "source": [
    "pd.set_option('display.max_rows',None)\n",
    "activity_per_country = activity_per_country[['Fatal (Y/N)']].sort_values(ascending=False, by=['ACTIVITY_CLEANED','Fatal (Y/N)'])"
   ]
  },
  {
   "cell_type": "code",
   "execution_count": null,
   "id": "8dd3a2d7",
   "metadata": {},
   "outputs": [],
   "source": [
    "activity_per_country.head(100)"
   ]
  },
  {
   "cell_type": "code",
   "execution_count": null,
   "id": "5b56ecf7",
   "metadata": {},
   "outputs": [],
   "source": [
    "dict_activity_per_country_swim = pd.DataFrame({'COUNTRY': ['AUSTRALIA', 'USA','SOUTH_AFRICA','BRAZIL'], 'ACTIVITIES': [82, 65, 45, 21]})\n",
    "dict_activity_per_country_surf = pd.DataFrame({'COUNTRY': ['AUSTRALIA','SOUTH_AFRICA','USA','BRAZIL'], 'ACTIVITIES': [24, 13, 11, 4]})"
   ]
  },
  {
   "cell_type": "code",
   "execution_count": null,
   "id": "660af639",
   "metadata": {
    "scrolled": false
   },
   "outputs": [],
   "source": [
    "swim_chart = dict_activity_per_country_swim.plot.bar(x='COUNTRY', y='ACTIVITIES', rot=0)\n",
    "surf_chart = dict_activity_per_country_surf.plot.bar(x='COUNTRY', y='ACTIVITIES', rot=0)"
   ]
  },
  {
   "cell_type": "markdown",
   "id": "972b77b3",
   "metadata": {},
   "source": [
    "Based on this analysis, we can assume that, in total, the higher number of fatal accidents happened in Australia."
   ]
  },
  {
   "cell_type": "markdown",
   "id": "5e79ac55",
   "metadata": {},
   "source": [
    "Below, we are going to analyse when each attack (fatal or not) happened anytime after 1990."
   ]
  },
  {
   "cell_type": "code",
   "execution_count": null,
   "id": "172884c3",
   "metadata": {},
   "outputs": [],
   "source": [
    "mask_australia_years = (shark_attack_cleaned['COUNTRY_CLEANED'] == 'AUSTRALIA') & (shark_attack_cleaned['Year']>=1990.0)\n",
    "\n",
    "australia_activity_per_year = shark_attack_cleaned[mask_australia_years].groupby(['ACTIVITY_CLEANED', 'Year']).count()"
   ]
  },
  {
   "cell_type": "code",
   "execution_count": null,
   "id": "2b87eb2e",
   "metadata": {},
   "outputs": [],
   "source": [
    "australia_activity_per_year = australia_activity_per_year[['COUNTRY_CLEANED']].sort_values(ascending=False, by=['ACTIVITY_CLEANED','COUNTRY_CLEANED'])"
   ]
  },
  {
   "cell_type": "code",
   "execution_count": null,
   "id": "e7b92efb",
   "metadata": {},
   "outputs": [],
   "source": [
    "australia_activity_per_year.head(30)"
   ]
  },
  {
   "cell_type": "code",
   "execution_count": null,
   "id": "5999f60c",
   "metadata": {},
   "outputs": [],
   "source": [
    "shark_attack_cleaned[mask_australia_years].groupby('Area')['Area'].count().sort_values(ascending= False)"
   ]
  },
  {
   "cell_type": "code",
   "execution_count": null,
   "id": "96edfaa7",
   "metadata": {},
   "outputs": [],
   "source": [
    "mask_south_wales = shark_attack_cleaned['Area'] == 'New South Wales'"
   ]
  },
  {
   "cell_type": "markdown",
   "id": "64c01229",
   "metadata": {},
   "source": [
    "We now know that New South Wales is the place where attacks happen the most in Australia - now it's time to choose what beach sould have a shark net installed. So we'll be looking for bay beaches."
   ]
  },
  {
   "cell_type": "code",
   "execution_count": null,
   "id": "b020bc52",
   "metadata": {
    "scrolled": true
   },
   "outputs": [],
   "source": [
    "shark_attack_cleaned[mask_south_wales].groupby('Location')['Location'].count().sort_values(ascending = False)"
   ]
  },
  {
   "cell_type": "code",
   "execution_count": null,
   "id": "e0b0444c",
   "metadata": {},
   "outputs": [],
   "source": [
    "def is_bay(place):\n",
    "    pattern = 'BAY'\n",
    "    try:\n",
    "        if pattern in place.upper():\n",
    "            return place\n",
    "        else:\n",
    "            return 'Not in a bay' \n",
    "    except:\n",
    "        return 'Not in a bay' "
   ]
  },
  {
   "cell_type": "code",
   "execution_count": 101,
   "id": "bf79f036",
   "metadata": {},
   "outputs": [],
   "source": [
    "shark_attack_cleaned['LOCATION_CLEANED'] = shark_attack_cleaned['Location'].map(is_bay)"
   ]
  },
  {
   "cell_type": "code",
   "execution_count": 102,
   "id": "ecba9753",
   "metadata": {},
   "outputs": [],
   "source": [
    "mask_in_bay = shark_attack_cleaned['LOCATION_CLEANED'] != 'Not in a bay'"
   ]
  },
  {
   "cell_type": "code",
   "execution_count": 103,
   "id": "7e9979b5",
   "metadata": {},
   "outputs": [
    {
     "data": {
      "text/plain": [
       "167"
      ]
     },
     "execution_count": 103,
     "metadata": {},
     "output_type": "execute_result"
    }
   ],
   "source": [
    "shark_attack_cleaned['LOCATION_CLEANED'].nunique()"
   ]
  },
  {
   "cell_type": "markdown",
   "id": "3c05f6d9",
   "metadata": {},
   "source": [
    "We know that 167 locations are in bay areas. "
   ]
  },
  {
   "cell_type": "code",
   "execution_count": 104,
   "id": "02083c8f",
   "metadata": {},
   "outputs": [],
   "source": [
    "bay_decision = shark_attack_cleaned[['LOCATION_CLEANED']].groupby('LOCATION_CLEANED')['LOCATION_CLEANED'].count()"
   ]
  },
  {
   "cell_type": "code",
   "execution_count": 105,
   "id": "c8164e2f",
   "metadata": {},
   "outputs": [],
   "source": [
    "bay_decision_australia = shark_attack_cleaned[mask_south_wales][['LOCATION_CLEANED']]"
   ]
  },
  {
   "cell_type": "code",
   "execution_count": 108,
   "id": "fb4e9c89",
   "metadata": {},
   "outputs": [
    {
     "data": {
      "text/plain": [
       "LOCATION_CLEANED\n",
       "Alma Bay, Magnetic Island, Townsville                                   1\n",
       "Arakoon's Little Bay                                                    1\n",
       "Bateman's Bay                                                           1\n",
       "Belongil Beach, Byron Bay                                               1\n",
       "Between Bay Rock & Magnetic Island, Cleveland Bay                       1\n",
       "Binalong Bay                                                            1\n",
       "Blue Bay                                                                1\n",
       "Boarding School Bay                                                     1\n",
       "Byron Bay                                                               2\n",
       "Byron Bay                                                               2\n",
       "Cheviot Beach, Portsea, Port Phillip Bay                                1\n",
       "Chimney Point, George’s Bay                                             1\n",
       "Clarkes Beach, Byron Bay                                                1\n",
       "Clarks Beach, Byron Bay                                                 1\n",
       "Coffin Bay                                                              1\n",
       "Coogee Bay, near Sydney                                                 1\n",
       "Corio Bay, Port Phillip                                                 1\n",
       "Cowaramup Bay                                                           1\n",
       "Falcon Bay Beach, Mandurah                                              1\n",
       "Fingal Bay                                                              1\n",
       "First Sun Beach, Byron Bay                                              1\n",
       "Fishery Bay                                                             1\n",
       "Fishery Bay, Eyre Peninsula                                             1\n",
       "Hardwicke Bay, Yorke Peninsula                                          1\n",
       "Homebush Bay, Parramatta River, Sydney                                  1\n",
       "Horseshoe Bay                                                           1\n",
       "Horseshoe Bay, near Kempsey                                             1\n",
       "In Swan River at Freshwater Bay, Claremont, 5 miles from river mouth    1\n",
       "Jervis Bay                                                              1\n",
       "Johnstone's Bay, Sydney                                                 1\n",
       "Kelpids Beach, Wylie Bay, Esperance                                     1\n",
       "Kelpies near Wylie Bay                                                  1\n",
       "Lipson Cove, Tumby Bay                                                  1\n",
       "Mark’s Point, Swan Bay, Lake Macquarie                                  1\n",
       "Maroubra Bay                                                            1\n",
       "Moreton Bay                                                             1\n",
       "Nettley Bay                                                             1\n",
       "North Brighton, Botany Bay                                              1\n",
       "Oatley Bay near Como, George’s River                                    1\n",
       "Pennington Bay, Kangaroo Island                                         1\n",
       "Point Vernon, Hervey Bay                                                1\n",
       "Port Phillip Bay, Port Melbourne                                        1\n",
       "Portsea Beach, near entrance to Port Phillip Bay                        1\n",
       "Seven Mile Beach, Byron Bay                                             1\n",
       "Smoky Bay, near Ceduna, on the Eyre Peninsula                           1\n",
       "South Cape Bay                                                          1\n",
       "Streaky Bay                                                             1\n",
       "Sugarloaf Bay, Middle Harbor, Sydney                                    1\n",
       "Surf Beach, Batemans Bay                                                1\n",
       "Tallow Beach, Byron Bay                                                 3\n",
       "Taronga Wharf, Athol Bay, Sydney Harbor                                 1\n",
       "Waitpinga Beach, near Victor Harbor, Encounter Bay                      1\n",
       "Wategos Beach, Byon Bay                                                 2\n",
       "Whale Bay, King Island, Bass Strait                                     1\n",
       "Wilson's Promontory, Waratah Bay                                        1\n",
       "Name: LOCATION_CLEANED, dtype: int64"
      ]
     },
     "execution_count": 108,
     "metadata": {},
     "output_type": "execute_result"
    }
   ],
   "source": [
    "shark_attack_cleaned[mask_in_bay & mask_australia].groupby('LOCATION_CLEANED')['LOCATION_CLEANED'].count()"
   ]
  },
  {
   "cell_type": "markdown",
   "id": "cd95a680",
   "metadata": {},
   "source": [
    "The location name will now be standardized by the function below."
   ]
  },
  {
   "cell_type": "code",
   "execution_count": 109,
   "id": "52d4751f",
   "metadata": {},
   "outputs": [],
   "source": [
    "def clean_location(value):\n",
    "    pattern= '[^A-Za-z]'\n",
    "    pattern1 = ' '\n",
    "    try:\n",
    "        value=value.lstrip().rstrip()\n",
    "        value=value.replace(pattern, '_')\n",
    "        value=value.replace(pattern1, '_')\n",
    "        value= value.replace(',', '_')\n",
    "        return value.upper()\n",
    "\n",
    "    except:\n",
    "        return np.nan"
   ]
  },
  {
   "cell_type": "code",
   "execution_count": 110,
   "id": "290eadda",
   "metadata": {},
   "outputs": [],
   "source": [
    "shark_attack_cleaned['LOCATION_CLEANED'] = shark_attack_cleaned['LOCATION_CLEANED'].map(clean_location)"
   ]
  },
  {
   "cell_type": "code",
   "execution_count": 111,
   "id": "62db2f74",
   "metadata": {},
   "outputs": [
    {
     "data": {
      "text/plain": [
       "LOCATION_CLEANED\n",
       "ALMA_BAY__MAGNETIC_ISLAND__TOWNSVILLE                                   1\n",
       "ARAKOON'S_LITTLE_BAY                                                    1\n",
       "BATEMAN'S_BAY                                                           1\n",
       "BELONGIL_BEACH__BYRON_BAY                                               1\n",
       "BETWEEN_BAY_ROCK_&_MAGNETIC_ISLAND__CLEVELAND_BAY                       1\n",
       "BINALONG_BAY                                                            1\n",
       "BLUE_BAY                                                                1\n",
       "BOARDING_SCHOOL_BAY                                                     1\n",
       "BYRON_BAY                                                               4\n",
       "CHEVIOT_BEACH__PORTSEA__PORT_PHILLIP_BAY                                1\n",
       "CHIMNEY_POINT__GEORGE’S_BAY                                             1\n",
       "CLARKES_BEACH__BYRON_BAY                                                1\n",
       "CLARKS_BEACH__BYRON_BAY                                                 1\n",
       "COFFIN_BAY                                                              1\n",
       "COOGEE_BAY__NEAR_SYDNEY                                                 1\n",
       "CORIO_BAY__PORT_PHILLIP                                                 1\n",
       "COWARAMUP_BAY                                                           1\n",
       "FALCON_BAY_BEACH__MANDURAH                                              1\n",
       "FINGAL_BAY                                                              1\n",
       "FIRST_SUN_BEACH__BYRON_BAY                                              1\n",
       "FISHERY_BAY                                                             1\n",
       "FISHERY_BAY__EYRE_PENINSULA                                             1\n",
       "HARDWICKE_BAY__YORKE_PENINSULA                                          1\n",
       "HOMEBUSH_BAY__PARRAMATTA_RIVER__SYDNEY                                  1\n",
       "HORSESHOE_BAY                                                           1\n",
       "HORSESHOE_BAY__NEAR_KEMPSEY                                             1\n",
       "IN_SWAN_RIVER_AT_FRESHWATER_BAY__CLAREMONT__5_MILES_FROM_RIVER_MOUTH    1\n",
       "JERVIS_BAY                                                              1\n",
       "JOHNSTONE'S_BAY__SYDNEY                                                 1\n",
       "KELPIDS_BEACH__WYLIE_BAY__ESPERANCE                                     1\n",
       "KELPIES_NEAR_WYLIE_BAY                                                  1\n",
       "LIPSON_COVE__TUMBY_BAY                                                  1\n",
       "MARK’S_POINT__SWAN_BAY__LAKE_MACQUARIE                                  1\n",
       "MAROUBRA_BAY                                                            1\n",
       "MORETON_BAY                                                             1\n",
       "NETTLEY_BAY                                                             1\n",
       "NORTH_BRIGHTON__BOTANY_BAY                                              1\n",
       "OATLEY_BAY_NEAR_COMO__GEORGE’S_RIVER                                    1\n",
       "PENNINGTON_BAY__KANGAROO_ISLAND                                         1\n",
       "POINT_VERNON__HERVEY_BAY                                                1\n",
       "PORTSEA_BEACH__NEAR_ENTRANCE_TO_PORT_PHILLIP_BAY                        1\n",
       "PORT_PHILLIP_BAY__PORT_MELBOURNE                                        1\n",
       "SEVEN_MILE_BEACH__BYRON_BAY                                             1\n",
       "SMOKY_BAY__NEAR_CEDUNA__ON_THE_EYRE_PENINSULA                           1\n",
       "SOUTH_CAPE_BAY                                                          1\n",
       "STREAKY_BAY                                                             1\n",
       "SUGARLOAF_BAY__MIDDLE_HARBOR__SYDNEY                                    1\n",
       "SURF_BEACH__BATEMANS_BAY                                                1\n",
       "TALLOW_BEACH__BYRON_BAY                                                 3\n",
       "TARONGA_WHARF__ATHOL_BAY__SYDNEY_HARBOR                                 1\n",
       "WAITPINGA_BEACH__NEAR_VICTOR_HARBOR__ENCOUNTER_BAY                      1\n",
       "WATEGOS_BEACH__BYON_BAY                                                 2\n",
       "WHALE_BAY__KING_ISLAND__BASS_STRAIT                                     1\n",
       "WILSON'S_PROMONTORY__WARATAH_BAY                                        1\n",
       "Name: LOCATION_CLEANED, dtype: int64"
      ]
     },
     "execution_count": 111,
     "metadata": {},
     "output_type": "execute_result"
    }
   ],
   "source": [
    "shark_attack_cleaned[mask_in_bay & mask_australia].groupby('LOCATION_CLEANED')['LOCATION_CLEANED'].count()"
   ]
  },
  {
   "cell_type": "markdown",
   "id": "1a767b52",
   "metadata": {},
   "source": [
    "After standardizing location names and analysing the results, I could noticed the word 'Byron Bay' is listed more frequently than any other location. Based on that, I decided to confirm my visual assumption by tracking results containing 'Byron Bay'."
   ]
  },
  {
   "cell_type": "code",
   "execution_count": 115,
   "id": "96cc7eb8",
   "metadata": {},
   "outputs": [],
   "source": [
    "def is_byron_bay(value):\n",
    "    try:\n",
    "        if 'BYRON_BAY' in value:\n",
    "            return 'BYRON_BAY'\n",
    "        else:\n",
    "            return value\n",
    "    except:\n",
    "        return value"
   ]
  },
  {
   "cell_type": "code",
   "execution_count": 116,
   "id": "a7b0968b",
   "metadata": {},
   "outputs": [],
   "source": [
    "shark_attack_cleaned['LOCATION_CLEANED'] = shark_attack_cleaned['LOCATION_CLEANED'].map(is_byron_bay)"
   ]
  },
  {
   "cell_type": "code",
   "execution_count": 122,
   "id": "8a3508d4",
   "metadata": {},
   "outputs": [
    {
     "data": {
      "text/plain": [
       "LOCATION_CLEANED\n",
       "ALMA_BAY__MAGNETIC_ISLAND__TOWNSVILLE                                    1\n",
       "ARAKOON'S_LITTLE_BAY                                                     1\n",
       "BATEMAN'S_BAY                                                            1\n",
       "BETWEEN_BAY_ROCK_&_MAGNETIC_ISLAND__CLEVELAND_BAY                        1\n",
       "BINALONG_BAY                                                             1\n",
       "BLUE_BAY                                                                 1\n",
       "BOARDING_SCHOOL_BAY                                                      1\n",
       "BYRON_BAY                                                               12\n",
       "CHEVIOT_BEACH__PORTSEA__PORT_PHILLIP_BAY                                 1\n",
       "CHIMNEY_POINT__GEORGE’S_BAY                                              1\n",
       "COFFIN_BAY                                                               1\n",
       "COOGEE_BAY__NEAR_SYDNEY                                                  1\n",
       "CORIO_BAY__PORT_PHILLIP                                                  1\n",
       "COWARAMUP_BAY                                                            1\n",
       "FALCON_BAY_BEACH__MANDURAH                                               1\n",
       "FINGAL_BAY                                                               1\n",
       "FISHERY_BAY                                                              1\n",
       "FISHERY_BAY__EYRE_PENINSULA                                              1\n",
       "HARDWICKE_BAY__YORKE_PENINSULA                                           1\n",
       "HOMEBUSH_BAY__PARRAMATTA_RIVER__SYDNEY                                   1\n",
       "HORSESHOE_BAY                                                            1\n",
       "HORSESHOE_BAY__NEAR_KEMPSEY                                              1\n",
       "IN_SWAN_RIVER_AT_FRESHWATER_BAY__CLAREMONT__5_MILES_FROM_RIVER_MOUTH     1\n",
       "JERVIS_BAY                                                               1\n",
       "JOHNSTONE'S_BAY__SYDNEY                                                  1\n",
       "KELPIDS_BEACH__WYLIE_BAY__ESPERANCE                                      1\n",
       "KELPIES_NEAR_WYLIE_BAY                                                   1\n",
       "LIPSON_COVE__TUMBY_BAY                                                   1\n",
       "MARK’S_POINT__SWAN_BAY__LAKE_MACQUARIE                                   1\n",
       "MAROUBRA_BAY                                                             1\n",
       "MORETON_BAY                                                              1\n",
       "NETTLEY_BAY                                                              1\n",
       "NORTH_BRIGHTON__BOTANY_BAY                                               1\n",
       "OATLEY_BAY_NEAR_COMO__GEORGE’S_RIVER                                     1\n",
       "PENNINGTON_BAY__KANGAROO_ISLAND                                          1\n",
       "POINT_VERNON__HERVEY_BAY                                                 1\n",
       "PORTSEA_BEACH__NEAR_ENTRANCE_TO_PORT_PHILLIP_BAY                         1\n",
       "PORT_PHILLIP_BAY__PORT_MELBOURNE                                         1\n",
       "SMOKY_BAY__NEAR_CEDUNA__ON_THE_EYRE_PENINSULA                            1\n",
       "SOUTH_CAPE_BAY                                                           1\n",
       "STREAKY_BAY                                                              1\n",
       "SUGARLOAF_BAY__MIDDLE_HARBOR__SYDNEY                                     1\n",
       "SURF_BEACH__BATEMANS_BAY                                                 1\n",
       "TARONGA_WHARF__ATHOL_BAY__SYDNEY_HARBOR                                  1\n",
       "WAITPINGA_BEACH__NEAR_VICTOR_HARBOR__ENCOUNTER_BAY                       1\n",
       "WATEGOS_BEACH__BYON_BAY                                                  2\n",
       "WHALE_BAY__KING_ISLAND__BASS_STRAIT                                      1\n",
       "WILSON'S_PROMONTORY__WARATAH_BAY                                         1\n",
       "Name: LOCATION_CLEANED, dtype: int64"
      ]
     },
     "execution_count": 122,
     "metadata": {},
     "output_type": "execute_result"
    }
   ],
   "source": [
    "shark_attack_cleaned[mask_in_bay & mask_australia].groupby('LOCATION_CLEANED')['LOCATION_CLEANED'].count()"
   ]
  },
  {
   "cell_type": "markdown",
   "id": "47803b28",
   "metadata": {},
   "source": [
    "By far, 'Byron Bay' seems to be the place with the highest number of shark attacks in Australia (the country with the highest rate of fatal shark attacks). That being said, this was the place chosen by my 'company' to install protection nets."
   ]
  }
 ],
 "metadata": {
  "kernelspec": {
   "display_name": "Python 3 (ipykernel)",
   "language": "python",
   "name": "python3"
  },
  "language_info": {
   "codemirror_mode": {
    "name": "ipython",
    "version": 3
   },
   "file_extension": ".py",
   "mimetype": "text/x-python",
   "name": "python",
   "nbconvert_exporter": "python",
   "pygments_lexer": "ipython3",
   "version": "3.9.12"
  }
 },
 "nbformat": 4,
 "nbformat_minor": 5
}
